{
 "cells": [
  {
   "cell_type": "markdown",
   "id": "d154b4dd-4af9-4c59-8833-9e84738b2935",
   "metadata": {},
   "source": [
    "## import "
   ]
  },
  {
   "cell_type": "code",
   "execution_count": null,
   "id": "85810986-25e7-4148-8e97-14c528222dbb",
   "metadata": {},
   "outputs": [],
   "source": []
  },
  {
   "cell_type": "code",
   "execution_count": null,
   "id": "d5d452f6-1972-4af4-a13a-6004ff0c78e6",
   "metadata": {},
   "outputs": [],
   "source": []
  },
  {
   "cell_type": "markdown",
   "id": "07c02f48-31a9-448f-9f88-fc744c44562a",
   "metadata": {},
   "source": [
    "## read csv"
   ]
  },
  {
   "cell_type": "code",
   "execution_count": null,
   "id": "3a9e3829-5136-4ed9-a849-f26c4e025642",
   "metadata": {},
   "outputs": [],
   "source": []
  },
  {
   "cell_type": "code",
   "execution_count": null,
   "id": "23d8be5f-f1bd-49f1-8b02-01749c911b15",
   "metadata": {},
   "outputs": [],
   "source": []
  },
  {
   "cell_type": "markdown",
   "id": "5126f5c0-6c84-4a73-ba1d-b8d60ebfb640",
   "metadata": {},
   "source": [
    "## remove columns= PassengerId,Name,Ticket,Cabin"
   ]
  },
  {
   "cell_type": "code",
   "execution_count": null,
   "id": "e17eddee-bf13-4247-b400-9b42c2066fa6",
   "metadata": {},
   "outputs": [],
   "source": []
  },
  {
   "cell_type": "markdown",
   "id": "fb16b1f6-5de0-46e3-8c53-2fafcc150489",
   "metadata": {},
   "source": [
    "## step 1 -> train/test/split"
   ]
  },
  {
   "cell_type": "code",
   "execution_count": null,
   "id": "497e218f-deb7-489e-be4a-e7aacecf37ed",
   "metadata": {},
   "outputs": [],
   "source": []
  },
  {
   "cell_type": "markdown",
   "id": "214a7cae-070e-4b0c-8628-b70d0522777c",
   "metadata": {},
   "source": [
    "## see training independent variables"
   ]
  },
  {
   "cell_type": "code",
   "execution_count": null,
   "id": "48383692-9642-4776-8d6b-5d563e5d7855",
   "metadata": {},
   "outputs": [],
   "source": []
  },
  {
   "cell_type": "markdown",
   "id": "94a5d9aa-3612-4c3a-b6ef-7fa74bc06996",
   "metadata": {},
   "source": [
    "## see training dependent varible samples "
   ]
  },
  {
   "cell_type": "code",
   "execution_count": null,
   "id": "f9234e8c-0ef4-4814-8569-9d31a3641881",
   "metadata": {},
   "outputs": [],
   "source": []
  },
  {
   "cell_type": "markdown",
   "id": "7e46d7b5-b36a-4c31-99f5-b5201168e21f",
   "metadata": {},
   "source": [
    "## imputation transformer"
   ]
  },
  {
   "cell_type": "code",
   "execution_count": null,
   "id": "c351c97f-a95a-47c0-a230-f0914121bb4b",
   "metadata": {},
   "outputs": [],
   "source": []
  },
  {
   "cell_type": "markdown",
   "id": "b2339dad-6d6a-4a86-91de-eadf8e279727",
   "metadata": {},
   "source": [
    "## apply one hot encoding"
   ]
  },
  {
   "cell_type": "code",
   "execution_count": null,
   "id": "2876da62-823e-4b12-a6aa-a58d1de3ce15",
   "metadata": {},
   "outputs": [],
   "source": []
  },
  {
   "cell_type": "markdown",
   "id": "12a142d9-95ac-4334-8232-f99149540781",
   "metadata": {},
   "source": [
    "## scaling "
   ]
  },
  {
   "cell_type": "code",
   "execution_count": null,
   "id": "4919c24d-a121-453d-bbde-70058458bf74",
   "metadata": {},
   "outputs": [],
   "source": []
  },
  {
   "cell_type": "markdown",
   "id": "32a09c02-6b28-4aef-984f-c7721ed24efa",
   "metadata": {},
   "source": [
    "## feature selection"
   ]
  },
  {
   "cell_type": "code",
   "execution_count": null,
   "id": "29d5a52d-9a2b-487e-a2b9-9460367422ac",
   "metadata": {},
   "outputs": [],
   "source": []
  },
  {
   "cell_type": "markdown",
   "id": "806ed6fd-b819-4947-8c33-964f1ac209b1",
   "metadata": {},
   "source": [
    "## train the model"
   ]
  },
  {
   "cell_type": "code",
   "execution_count": null,
   "id": "fa933887-f0d6-4aa2-b44a-8df2b642d25b",
   "metadata": {},
   "outputs": [],
   "source": []
  },
  {
   "cell_type": "markdown",
   "id": "aace1706-18a6-48ac-9612-67220d39017b",
   "metadata": {},
   "source": [
    "## Create a pipeline"
   ]
  },
  {
   "cell_type": "code",
   "execution_count": null,
   "id": "6143f36c-6802-4381-8d87-0b88f44e76e2",
   "metadata": {},
   "outputs": [],
   "source": []
  },
  {
   "cell_type": "markdown",
   "id": "a33986c8-cf9b-408b-95ce-77b5d19e6d7a",
   "metadata": {},
   "source": [
    "## train using pipeline"
   ]
  },
  {
   "cell_type": "code",
   "execution_count": null,
   "id": "5c019ac6-6005-4ed2-837e-9e5d725a9fdc",
   "metadata": {},
   "outputs": [],
   "source": []
  },
  {
   "cell_type": "markdown",
   "id": "5a96591f-f731-430c-8954-e0e0833257d1",
   "metadata": {},
   "source": [
    "## explore the pipeline\n"
   ]
  },
  {
   "cell_type": "code",
   "execution_count": null,
   "id": "bde5554f-c9ea-4bef-944e-7360da973b4d",
   "metadata": {},
   "outputs": [],
   "source": []
  },
  {
   "cell_type": "markdown",
   "id": "e930cfb3-0aba-4863-a04c-099fb23c5d76",
   "metadata": {},
   "source": [
    "## DISPLAY PIPELINE"
   ]
  },
  {
   "cell_type": "code",
   "execution_count": null,
   "id": "7ba106ab-9dbe-4fae-b0e7-abcd86604220",
   "metadata": {},
   "outputs": [],
   "source": []
  },
  {
   "cell_type": "markdown",
   "id": "fa83c851-f5ac-4efc-8299-94c07a76f0b5",
   "metadata": {},
   "source": [
    "## predict using pipeline"
   ]
  },
  {
   "cell_type": "code",
   "execution_count": null,
   "id": "e35416a6-dbd9-49c1-acb2-d06e0b497588",
   "metadata": {},
   "outputs": [],
   "source": []
  },
  {
   "cell_type": "code",
   "execution_count": null,
   "id": "2c826d4c-0b8c-4437-9890-5f0f40ac1610",
   "metadata": {},
   "outputs": [],
   "source": []
  },
  {
   "cell_type": "code",
   "execution_count": null,
   "id": "1f99cd37-5b94-4e9f-ad78-1b0cea77859e",
   "metadata": {},
   "outputs": [],
   "source": []
  },
  {
   "cell_type": "markdown",
   "id": "0446e156-7712-47ee-9aab-73f4b4087b60",
   "metadata": {},
   "source": [
    "## cross validation using pipeline"
   ]
  },
  {
   "cell_type": "code",
   "execution_count": null,
   "id": "7849002b-1d50-4441-97a6-a62bf6490cac",
   "metadata": {},
   "outputs": [],
   "source": []
  },
  {
   "cell_type": "markdown",
   "id": "82f4c47e-a1d1-4128-87d2-d3cb009429dc",
   "metadata": {},
   "source": [
    "## Exporting the pipeline"
   ]
  },
  {
   "cell_type": "code",
   "execution_count": null,
   "id": "d47c0008-7337-48ce-89e6-05d60da443fb",
   "metadata": {},
   "outputs": [],
   "source": []
  },
  {
   "cell_type": "code",
   "execution_count": null,
   "id": "e88c12c7-682a-4436-a70d-e6cc246f4633",
   "metadata": {},
   "outputs": [],
   "source": []
  }
 ],
 "metadata": {
  "kernelspec": {
   "display_name": "Python 3 (ipykernel)",
   "language": "python",
   "name": "python3"
  },
  "language_info": {
   "codemirror_mode": {
    "name": "ipython",
    "version": 3
   },
   "file_extension": ".py",
   "mimetype": "text/x-python",
   "name": "python",
   "nbconvert_exporter": "python",
   "pygments_lexer": "ipython3",
   "version": "3.13.3"
  }
 },
 "nbformat": 4,
 "nbformat_minor": 5
}
