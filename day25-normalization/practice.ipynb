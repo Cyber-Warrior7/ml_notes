{
 "cells": [
  {
   "cell_type": "code",
   "execution_count": 1,
   "id": "7afa2fbd-831c-4191-ab2d-c209b0e72f05",
   "metadata": {},
   "outputs": [],
   "source": [
    "import numpy as np\n",
    "import pandas as pd\n",
    "import matplotlib.pyplot as plt\n",
    "import seaborn as sns\n"
   ]
  },
  {
   "cell_type": "code",
   "execution_count": 15,
   "id": "4df57f8d-7bc0-47d5-a557-d15c4d537a9b",
   "metadata": {},
   "outputs": [],
   "source": [
    "df = pd.read_csv('wine_data.csv',header=None,usecols=[0,1,2])\n",
    "df.columns = ['Class label', 'Alcohol', 'Malic acid']"
   ]
  },
  {
   "cell_type": "code",
   "execution_count": 23,
   "id": "44b383fd-d4a7-49a0-a988-ae094efaaf0b",
   "metadata": {},
   "outputs": [],
   "source": [
    "from sklearn.model_selection import train_test_split\n"
   ]
  },
  {
   "cell_type": "code",
   "execution_count": 24,
   "id": "2a3d3f8b-10f2-4042-8122-48e5030f5cfc",
   "metadata": {},
   "outputs": [],
   "source": [
    "X_train, X_test, y_train, y_test = train_test_split(df.drop('Class label', axis=1),\n",
    "                                                    df['Class label'],\n",
    "                                                    test_size=0.3,\n",
    "                                                    random_state=0)"
   ]
  },
  {
   "cell_type": "code",
   "execution_count": 25,
   "id": "0600b505-433a-4fb8-a597-6ee961d8c465",
   "metadata": {},
   "outputs": [
    {
     "data": {
      "text/plain": [
       "((124, 2), (54, 2))"
      ]
     },
     "execution_count": 25,
     "metadata": {},
     "output_type": "execute_result"
    }
   ],
   "source": [
    "X_train.shape, X_test.shape"
   ]
  },
  {
   "cell_type": "code",
   "execution_count": null,
   "id": "be43625e-1e24-40b1-ab17-d4c19b81c4af",
   "metadata": {},
   "outputs": [],
   "source": [
    "from sklearn.preprocessing import MinMaxScaler\n",
    "scaler = MIn"
   ]
  }
 ],
 "metadata": {
  "kernelspec": {
   "display_name": "Python 3 (ipykernel)",
   "language": "python",
   "name": "python3"
  },
  "language_info": {
   "codemirror_mode": {
    "name": "ipython",
    "version": 3
   },
   "file_extension": ".py",
   "mimetype": "text/x-python",
   "name": "python",
   "nbconvert_exporter": "python",
   "pygments_lexer": "ipython3",
   "version": "3.13.3"
  }
 },
 "nbformat": 4,
 "nbformat_minor": 5
}
